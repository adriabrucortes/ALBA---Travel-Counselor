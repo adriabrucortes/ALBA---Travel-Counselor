{
 "cells": [
  {
   "cell_type": "code",
   "id": "3adb815fdf7a132c",
   "metadata": {
    "ExecuteTime": {
     "end_time": "2025-05-04T00:40:23.978403Z",
     "start_time": "2025-05-04T00:40:23.971011Z"
    }
   },
   "source": [
    "import json, re\n",
    "\n",
    "json_str = '```\\n{\\n    \"cities\": [\\n        {\\n            \"city_name\": \"Florence\",\\n            \"longitude\": 11.25586,\\n            \"latitude\": 43.76961,\\n            \"closest_airport\": \"FLR\"\\n        },\\n        {\\n            \"city_name\": \"Rome\",\\n            \"longitude\": 12.49636,\\n            \"latitude\": 41.90278,\\n            \"closest_airport\": \"FCO\"\\n        },\\n        {\\n            \"city_name\": \"Bangkok\",\\n            \"longitude\": 100.50177,\\n            \"latitude\": 13.75633,\\n            \"closest_airport\": \"BKK\"\\n        },\\n        {\\n            \"city_name\": \"Hanoi\",\\n            \"longitude\": 105.83416,\\n            \"latitude\": 21.02776,\\n            \"closest_airport\": \"HAN\"\\n        },\\n        {\\n            \"city_name\": \"Mexico City\",\\n            \"longitude\": -99.13321,\\n            \"latitude\": 19.43260,\\n            \"closest_airport\": \"MEX\"\\n        },\\n        {\\n            \"city_name\": \"Seville\",\\n            \"longitude\": -5.98447,\\n            \"latitude\": 37.38863,\\n            \"closest_airport\": \"SVQ\"\\n        },\\n        {\\n            \"city_name\": \"Lisbon\",\\n            \"longitude\": -9.13934,\\n            \"latitude\": 38.72225,\\n            \"closest_airport\": \"LIS\"\\n        },\\n        {\\n            \"city_name\": \"Buenos Aires\",\\n            \"longitude\": -58.38156,\\n            \"latitude\": -34.60368,\\n            \"closest_airport\": \"EZE\"\\n        },\\n        {\\n            \"city_name\": \"Marrakech\",\\n            \"longitude\": -8.00835,\\n            \"latitude\": 31.63032,\\n            \"closest_airport\": \"RAK\"\\n        },\\n        {\\n            \"city_name\": \"Athens\",\\n            \"longitude\": 23.72754,\\n            \"latitude\": 37.98381,\\n            \"closest_airport\": \"ATH\"\\n        }\\n    ],\\n    \"traveler_origins\": [\\n        {\\n            \"traveler\": \"niknaknel\",\\n            \"home_country\": \"Spain\",\\n            \"home_city\": \"Barcelona\",\\n            \"origin_iata\": \"BCN\"\\n        }\\n    ]\\n}\\n```'\n",
    "\n",
    "def parse_text_to_dict(input_text):\n",
    "    # Remove the triple backticks and optional language tag (e.g., ```json)\n",
    "    cleaned = re.sub(r'^```.*?\\n|\\n```$', '', input_text.strip(), flags=re.DOTALL)\n",
    "    # Parse the remaining JSON string\n",
    "    try:\n",
    "        data = json.loads(cleaned)\n",
    "        return data\n",
    "    except json.JSONDecodeError as e:\n",
    "        raise ValueError(\"Invalid JSON format\") from e\n",
    "\n",
    "parse_text_to_dict(json_str)['cities']"
   ],
   "outputs": [
    {
     "data": {
      "text/plain": [
       "[{'city_name': 'Florence',\n",
       "  'longitude': 11.25586,\n",
       "  'latitude': 43.76961,\n",
       "  'closest_airport': 'FLR'},\n",
       " {'city_name': 'Rome',\n",
       "  'longitude': 12.49636,\n",
       "  'latitude': 41.90278,\n",
       "  'closest_airport': 'FCO'},\n",
       " {'city_name': 'Bangkok',\n",
       "  'longitude': 100.50177,\n",
       "  'latitude': 13.75633,\n",
       "  'closest_airport': 'BKK'},\n",
       " {'city_name': 'Hanoi',\n",
       "  'longitude': 105.83416,\n",
       "  'latitude': 21.02776,\n",
       "  'closest_airport': 'HAN'},\n",
       " {'city_name': 'Mexico City',\n",
       "  'longitude': -99.13321,\n",
       "  'latitude': 19.4326,\n",
       "  'closest_airport': 'MEX'},\n",
       " {'city_name': 'Seville',\n",
       "  'longitude': -5.98447,\n",
       "  'latitude': 37.38863,\n",
       "  'closest_airport': 'SVQ'},\n",
       " {'city_name': 'Lisbon',\n",
       "  'longitude': -9.13934,\n",
       "  'latitude': 38.72225,\n",
       "  'closest_airport': 'LIS'},\n",
       " {'city_name': 'Buenos Aires',\n",
       "  'longitude': -58.38156,\n",
       "  'latitude': -34.60368,\n",
       "  'closest_airport': 'EZE'},\n",
       " {'city_name': 'Marrakech',\n",
       "  'longitude': -8.00835,\n",
       "  'latitude': 31.63032,\n",
       "  'closest_airport': 'RAK'},\n",
       " {'city_name': 'Athens',\n",
       "  'longitude': 23.72754,\n",
       "  'latitude': 37.98381,\n",
       "  'closest_airport': 'ATH'}]"
      ]
     },
     "execution_count": 27,
     "metadata": {},
     "output_type": "execute_result"
    }
   ],
   "execution_count": 27
  },
  {
   "metadata": {
    "ExecuteTime": {
     "end_time": "2025-05-03T23:22:24.940959Z",
     "start_time": "2025-05-03T23:22:24.936342Z"
    }
   },
   "cell_type": "code",
   "source": "cities[0]['city_name']",
   "id": "a23b2eb22b1e06d",
   "outputs": [
    {
     "data": {
      "text/plain": [
       "'Berlin'"
      ]
     },
     "execution_count": 4,
     "metadata": {},
     "output_type": "execute_result"
    }
   ],
   "execution_count": 4
  },
  {
   "metadata": {
    "ExecuteTime": {
     "end_time": "2025-05-03T23:22:50.248512Z",
     "start_time": "2025-05-03T23:22:50.243387Z"
    }
   },
   "cell_type": "code",
   "source": "traveler_origins[0]['origin_iata']",
   "id": "22d2b46f3502c7a2",
   "outputs": [
    {
     "data": {
      "text/plain": [
       "'BCN'"
      ]
     },
     "execution_count": 5,
     "metadata": {},
     "output_type": "execute_result"
    }
   ],
   "execution_count": 5
  },
  {
   "metadata": {
    "ExecuteTime": {
     "end_time": "2025-05-04T00:11:30.247943Z",
     "start_time": "2025-05-04T00:11:30.239100Z"
    }
   },
   "cell_type": "code",
   "source": [
    "from typing import Dict, List, Set, Optional\n",
    "\n",
    "class Traveler:\n",
    "    def __init__(self, _user_id: int, _username: str):\n",
    "        self._user_id = _user_id\n",
    "        self._username = _username\n",
    "        self.origin: Dict[str, str] = {\"Country\": None, \"City\": None, \"iata\": None}\n",
    "        self.cheap: int = None\n",
    "        self.history: int = None\n",
    "        self.environmental_impact: int = None\n",
    "        self.food: int = None\n",
    "        self.art: int = None\n",
    "        self.adventure: int = None\n",
    "        self.temperature: int = None\n",
    "        self.deal_breakers: List[str] = []\n",
    "        self.deal_makers: List[str] = []\n",
    "        self._conversation_history: List[Dict[str, str]] = []\n",
    "        self._done: bool = False\n",
    "        self._vote: str = None # To store the user's _vote\n",
    "\n",
    "    def __str__(self):\n",
    "        output = f\"{self._username}:\\n\"\n",
    "        if self.origin[\"City\"] and self.origin[\"Country\"]:\n",
    "            output += f\" origin, {self.origin['City']} {self.origin['Country']}\\n\"\n",
    "        if self.cheap is not None:\n",
    "            output += f\" cheap, {self.cheap}\\n\"\n",
    "        if self.history is not None:\n",
    "            output += f\" history, {self.history}\\n\"\n",
    "        if self.environmental_impact is not None:\n",
    "            output += f\" environmental_impact, {self.environmental_impact}\\n\"\n",
    "        if self.food is not None:\n",
    "            output += f\" food, {self.food}\\n\"\n",
    "        if self.art is not None:\n",
    "            output += f\" art, {self.art}\\n\"\n",
    "        if self.adventure is not None:\n",
    "            output += f\" adventure, {self.adventure}\\n\"\n",
    "        if self.temperature is not None:\n",
    "            output += f\" temperature, {self.temperature}\\n\"\n",
    "        if self.deal_breakers:\n",
    "            output += f\" DEAL_BREAKERS: {', '.join(self.deal_breakers)}.\\n\"\n",
    "        if self.deal_makers:\n",
    "            output += f\" DEAL_MAKERS: {', '.join(self.deal_makers)}.\\n\"\n",
    "        if self._vote:\n",
    "            output += f\" Vote: {self._vote}\\n\"\n",
    "        return output.strip()"
   ],
   "id": "e11c1ec8cebfce0c",
   "outputs": [],
   "execution_count": 13
  },
  {
   "metadata": {
    "ExecuteTime": {
     "end_time": "2025-05-04T00:38:43.622286Z",
     "start_time": "2025-05-04T00:38:43.613018Z"
    }
   },
   "cell_type": "code",
   "source": [
    "from pprint import pprint\n",
    "\n",
    "test_travelers = {\n",
    "    0: Traveler(0, 'niknaknel'),\n",
    "    1: Traveler(1, 'foobar'),\n",
    "    2: Traveler(2, 'fred')\n",
    "}\n",
    "\n",
    "origins_dict = [\n",
    "    {\n",
    "        \"traveler\": \"niknaknel\",\n",
    "        \"home_country\": \"Spain\",\n",
    "        \"home_city\": \"Barcelona\",\n",
    "        \"origin_iata\": \"BCN\"\n",
    "    },\n",
    "    {\n",
    "        \"traveler\": \"foobar\",\n",
    "        \"home_country\": \"France\",\n",
    "        \"home_city\": \"Paris\",\n",
    "        \"origin_iata\": \"ORY\"\n",
    "    }\n",
    "]\n",
    "\n",
    "def update_travelers_with_origin(origins_dict):\n",
    "    for id, traveler in test_travelers.items():\n",
    "        origin = next((t for t in origins_dict if t.get(\"traveler\") == traveler._username), None)\n",
    "        if origin:\n",
    "            traveler.origin['iata'] = origin['origin_iata']\n",
    "            \n",
    "update_travelers_with_origin(origins_dict)\n",
    "\n",
    "pprint(origins_dict)\n",
    "\n",
    "for tid, traveler in test_travelers.items():\n",
    "    print(f\"{tid}: {traveler.origin['iata']}\")"
   ],
   "id": "a6e53a54c37f00be",
   "outputs": [
    {
     "name": "stdout",
     "output_type": "stream",
     "text": [
      "[{'home_city': 'Barcelona',\n",
      "  'home_country': 'Spain',\n",
      "  'origin_iata': 'BCN',\n",
      "  'traveler': 'niknaknel'},\n",
      " {'home_city': 'Paris',\n",
      "  'home_country': 'France',\n",
      "  'origin_iata': 'ORY',\n",
      "  'traveler': 'foobar'}]\n",
      "0: BCN\n",
      "1: ORY\n",
      "2: None\n"
     ]
    }
   ],
   "execution_count": 22
  },
  {
   "metadata": {
    "ExecuteTime": {
     "end_time": "2025-05-04T00:26:21.040446Z",
     "start_time": "2025-05-04T00:26:21.036665Z"
    }
   },
   "cell_type": "code",
   "source": [
    "city_suggestions = [\n",
    "    {\"city\": \"Paris\", \"ave_price\": 200},\n",
    "    {\"city\": \"Berlin\", \"ave_price\": 150},\n",
    "    {\"city\": \"Madrid\", \"ave_price\": 180}\n",
    "]\n",
    "\n",
    "# Sort in ascending order by `ave_price`\n",
    "city_suggestions.sort(key=lambda x: x['ave_price'])\n",
    "\n",
    "print(city_suggestions)"
   ],
   "id": "287616834c31a074",
   "outputs": [
    {
     "name": "stdout",
     "output_type": "stream",
     "text": [
      "[{'city': 'Berlin', 'ave_price': 150}, {'city': 'Madrid', 'ave_price': 180}, {'city': 'Paris', 'ave_price': 200}]\n"
     ]
    }
   ],
   "execution_count": 21
  },
  {
   "metadata": {
    "ExecuteTime": {
     "end_time": "2025-05-04T00:44:47.258392Z",
     "start_time": "2025-05-04T00:44:46.932216Z"
    }
   },
   "cell_type": "code",
   "source": [
    "from flightsearch import search_cheapest_flights\n",
    "\n",
    "cities = [{'city_name': 'Florence',\n",
    "  'longitude': 11.25586,\n",
    "  'latitude': 43.76961,\n",
    "  'closest_airport': 'FLR'},\n",
    " {'city_name': 'Rome',\n",
    "  'longitude': 12.49636,\n",
    "  'latitude': 41.90278,\n",
    "  'closest_airport': 'FCO'},\n",
    " {'city_name': 'Bangkok',\n",
    "  'longitude': 100.50177,\n",
    "  'latitude': 13.75633,\n",
    "  'closest_airport': 'BKK'}]\n",
    "\n",
    "test_travelers = {\n",
    "    0: Traveler(0, 'niknaknel'),\n",
    "    1: Traveler(1, 'foobar')\n",
    "}\n",
    "test_travelers[0].origin['iata'] = 'BCN'\n",
    "test_travelers[1].origin['iata'] = 'ORY'\n",
    "\n",
    "\n",
    "city = cities[0]\n",
    "date_range = {\"start_month\": 8, \"start_year\": 2025, \"end_month\": 9, \"end_year\": 2025}\n",
    "\n",
    "cheapest_by_traveler = {}\n",
    "for idx, traveler in test_travelers.items():\n",
    "    origin = traveler.origin\n",
    "    cheapest_by_traveler[idx] = search_cheapest_flights(\n",
    "        origin['iata'],\n",
    "        city['closest_airport'],\n",
    "        date_range\n",
    "    )\n",
    "pprint(cheapest_by_traveler)\n",
    "ave_price = sum([int(p) for p in cheapest_by_traveler.values()]) / len(cheapest_by_traveler)\n",
    "city['ave_price'] = ave_price\n",
    "\n",
    "print(city)"
   ],
   "id": "9aac3f161d037421",
   "outputs": [
    {
     "name": "stdout",
     "output_type": "stream",
     "text": [
      "{0: '104', 1: '92'}\n",
      "{'city_name': 'Florence', 'longitude': 11.25586, 'latitude': 43.76961, 'closest_airport': 'FLR', 'ave_price': 98.0}\n"
     ]
    }
   ],
   "execution_count": 32
  },
  {
   "metadata": {
    "ExecuteTime": {
     "end_time": "2025-05-04T01:50:23.624163Z",
     "start_time": "2025-05-04T01:50:23.620987Z"
    }
   },
   "cell_type": "code",
   "source": [
    "from tabulate import tabulate\n",
    "\n",
    "prices = {\n",
    "    'Madrid': {\n",
    "        'niknaknel': 100,\n",
    "        'foobar': 150,\n",
    "        'fred': 180\n",
    "    },\n",
    "    'Athens': {\n",
    "        'niknaknel': 200,\n",
    "        'foobar': 300,\n",
    "        'fred': 30\n",
    "    },\n",
    "    'Rome': {\n",
    "        'niknaknel': 150,\n",
    "        'foobar': 200,\n",
    "        'fred': 250\n",
    "    }\n",
    "}\n",
    "\n",
    "def format_prices_by_city(prices):\n",
    "    # Extract all cities and users from the data\n",
    "    cities = list(prices.keys())\n",
    "    users = list(next(iter(prices.values())).keys())  # Get users from the first city's dictionary\n",
    "\n",
    "    # Prepare the headers for the table\n",
    "    headers = [\"Traveler\"] + cities  # The first column will be \"User\", followed by cities as columns\n",
    "\n",
    "    # Prepare the rows for the table\n",
    "    table_data = []\n",
    "    for user in users:\n",
    "        # Create a row starting with the username, followed by their prices for each city\n",
    "        row = [user] + [prices[city][user] for city in cities]\n",
    "        table_data.append(row)\n",
    "\n",
    "    # Format the table using tabulate\n",
    "    table = tabulate(table_data, headers, tablefmt=\"pretty\")\n",
    "    return table\n",
    "\n",
    "def format_prices(prices_by_city_by_user):\n",
    "    message = \"Here's a price breakdown by person:\\n\"\n",
    "    message += format_prices_by_city(prices_by_city_by_user)\n",
    "    return message\n",
    "    \n",
    "print(format_prices(prices))"
   ],
   "id": "a90d93d5cf868d22",
   "outputs": [
    {
     "name": "stdout",
     "output_type": "stream",
     "text": [
      "Here's a price breakdown by person:\n",
      "+-----------+--------+--------+------+\n",
      "| Traveler  | Madrid | Athens | Rome |\n",
      "+-----------+--------+--------+------+\n",
      "| niknaknel |  100   |  200   | 150  |\n",
      "|  foobar   |  150   |  300   | 200  |\n",
      "|   fred    |  180   |   30   | 250  |\n",
      "+-----------+--------+--------+------+\n"
     ]
    }
   ],
   "execution_count": 37
  },
  {
   "metadata": {
    "ExecuteTime": {
     "end_time": "2025-05-04T02:08:07.642493Z",
     "start_time": "2025-05-04T02:08:07.639162Z"
    }
   },
   "cell_type": "code",
   "source": [
    "prices_by_city_by_user = {\n",
    "    'Madrid': {\n",
    "        'niknaknel': 100,\n",
    "        'foobar': 150,\n",
    "        'fred': 180\n",
    "    },\n",
    "    'Athens': {\n",
    "        'niknaknel': 200,\n",
    "        'foobar': 300,\n",
    "        'fred': 30\n",
    "    },\n",
    "    'Rome': {\n",
    "        'niknaknel': 150,\n",
    "        'foobar': 200,\n",
    "        'fred': 250\n",
    "    }\n",
    "}\n",
    "\n",
    "cheapest_names = ['Madrid', 'Rome']\n",
    "top5_prices = {k:v for k,v in prices_by_city_by_user.items() if k in cheapest_names}\n",
    "top5_prices"
   ],
   "id": "411f63dc10e6a56a",
   "outputs": [
    {
     "data": {
      "text/plain": [
       "{'Madrid': {'niknaknel': 100, 'foobar': 150, 'fred': 180},\n",
       " 'Rome': {'niknaknel': 150, 'foobar': 200, 'fred': 250}}"
      ]
     },
     "execution_count": 39,
     "metadata": {},
     "output_type": "execute_result"
    }
   ],
   "execution_count": 39
  },
  {
   "metadata": {},
   "cell_type": "code",
   "outputs": [],
   "execution_count": null,
   "source": "",
   "id": "307aac0d82d4617d"
  }
 ],
 "metadata": {
  "kernelspec": {
   "display_name": "Python 3",
   "language": "python",
   "name": "python3"
  },
  "language_info": {
   "codemirror_mode": {
    "name": "ipython",
    "version": 2
   },
   "file_extension": ".py",
   "mimetype": "text/x-python",
   "name": "python",
   "nbconvert_exporter": "python",
   "pygments_lexer": "ipython2",
   "version": "2.7.6"
  }
 },
 "nbformat": 4,
 "nbformat_minor": 5
}
